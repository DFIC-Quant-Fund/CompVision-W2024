{
  "nbformat": 4,
  "nbformat_minor": 0,
  "metadata": {
    "colab": {
      "provenance": [],
      "authorship_tag": "ABX9TyOqLNLNqrOnYVHTbRC9OU8q",
      "include_colab_link": true
    },
    "kernelspec": {
      "name": "python3",
      "display_name": "Python 3"
    },
    "language_info": {
      "name": "python"
    }
  },
  "cells": [
    {
      "cell_type": "markdown",
      "metadata": {
        "id": "view-in-github",
        "colab_type": "text"
      },
      "source": [
        "<a href=\"https://colab.research.google.com/github/DFIC-Quant-Fund/CompVision-W2024/blob/main/PNL_Calculator.ipynb\" target=\"_parent\"><img src=\"https://colab.research.google.com/assets/colab-badge.svg\" alt=\"Open In Colab\"/></a>"
      ]
    },
    {
      "cell_type": "code",
      "execution_count": null,
      "metadata": {
        "colab": {
          "base_uri": "https://localhost:8080/"
        },
        "id": "D2Ad0glOhogu",
        "outputId": "88126980-5bf3-44d8-f75a-2e6f0c70fce8"
      },
      "outputs": [
        {
          "output_type": "stream",
          "name": "stderr",
          "text": [
            "\r[*********************100%%**********************]  1 of 1 completed"
          ]
        },
        {
          "output_type": "stream",
          "name": "stdout",
          "text": [
            "                                 Open        High         Low       Close  \\\n",
            "Datetime                                                                    \n",
            "2024-02-29 09:30:00-05:00  792.500000  794.999878  791.715027  794.830017   \n",
            "2024-02-29 09:35:00-05:00  795.000000  798.299927  794.850098  797.364990   \n",
            "2024-02-29 09:40:00-05:00  796.000000  796.090027  792.393921  794.109985   \n",
            "2024-02-29 09:45:00-05:00  794.054993  795.499878  790.070007  790.650024   \n",
            "2024-02-29 09:50:00-05:00  790.650024  796.729980  790.070007  795.340027   \n",
            "...                               ...         ...         ...         ...   \n",
            "2024-03-01 15:35:00-05:00  819.500000  819.659912  818.380005  819.311829   \n",
            "2024-03-01 15:40:00-05:00  819.380005  820.489990  819.099976  820.289978   \n",
            "2024-03-01 15:45:00-05:00  820.390015  821.000000  820.219971  820.640015   \n",
            "2024-03-01 15:50:00-05:00  820.559998  821.090027  819.820007  820.338013   \n",
            "2024-03-01 15:55:00-05:00  820.380005  823.000000  820.375000  822.929993   \n",
            "\n",
            "                            Adj Close   Volume  \n",
            "Datetime                                        \n",
            "2024-02-29 09:30:00-05:00  794.830017  4024565  \n",
            "2024-02-29 09:35:00-05:00  797.364990  1538498  \n",
            "2024-02-29 09:40:00-05:00  794.109985  1300281  \n",
            "2024-02-29 09:45:00-05:00  790.650024  1251104  \n",
            "2024-02-29 09:50:00-05:00  795.340027  1324743  \n",
            "...                               ...      ...  \n",
            "2024-03-01 15:35:00-05:00  819.311829   357872  \n",
            "2024-03-01 15:40:00-05:00  820.289978   350544  \n",
            "2024-03-01 15:45:00-05:00  820.640015   521152  \n",
            "2024-03-01 15:50:00-05:00  820.338013   620357  \n",
            "2024-03-01 15:55:00-05:00  822.929993  1363780  \n",
            "\n",
            "[156 rows x 6 columns]\n",
            "{'Entry Price': 801.1699829101562, 'Exit Price': 817.2899780273438, 'PnL': 16.1199951171875}\n"
          ]
        },
        {
          "output_type": "stream",
          "name": "stderr",
          "text": [
            "\n"
          ]
        }
      ],
      "source": [
        "import yfinance as yf\n",
        "import pandas as pd\n",
        "from datetime import datetime, timedelta\n",
        "\n",
        "class TradeSimulator:\n",
        "\n",
        "    def __init__(self, ticker):\n",
        "\n",
        "        self.ticker = ticker\n",
        "        self.entry_price = None\n",
        "        self.exit_price = None\n",
        "        self.data = None\n",
        "        self.live_pnl_df = None\n",
        "\n",
        "    def get_last_trading_day(self):\n",
        "\n",
        "        today = datetime.now()\n",
        "        offset = max(1, (today.weekday() + 6) % 7 - 3)\n",
        "        last_trading_day = today - timedelta(days=offset)\n",
        "        return last_trading_day\n",
        "\n",
        "    def getData(self):\n",
        "\n",
        "        last_trading_day = self.get_last_trading_day()\n",
        "        start_date = (last_trading_day - timedelta(days=1)).strftime('%Y-%m-%d')\n",
        "        end_date = (last_trading_day + timedelta(days=1)).strftime('%Y-%m-%d')\n",
        "        self.data = yf.download(self.ticker, start=start_date, end=end_date, interval='5m')\n",
        "        self.data = self.data.loc[last_trading_day.strftime('%Y-%m-%d')]\n",
        "\n",
        "    def startTrade(self):\n",
        "\n",
        "        self.entry_price = self.data['Open'].iloc[0]\n",
        "\n",
        "    def calculateLivePNL(self):\n",
        "        pnl_list = []\n",
        "        for i, row in self.data.iterrows():\n",
        "            current_price = row['Open']\n",
        "            pnl = current_price - self.entry_price\n",
        "            pnl_list.append({'Time': i, 'Price': current_price, 'PnL': pnl})\n",
        "\n",
        "        self.live_pnl_df = pd.DataFrame(pnl_list)\n",
        "\n",
        "    def executeTrade(self):\n",
        "\n",
        "        self.getData()\n",
        "        self.startTrade()\n",
        "        self.calculateLivePNL()\n",
        "\n",
        "        return self.live_pnl_df\n",
        "\n",
        "ticker = 'NVDA'\n",
        "pd.set_option('display.max_rows', None)\n",
        "simulator = TradeSimulator(ticker)\n",
        "live_pnl_df = simulator.executeTrade()\n",
        "print(live_pnl_df)\n"
      ]
    }
  ]
}