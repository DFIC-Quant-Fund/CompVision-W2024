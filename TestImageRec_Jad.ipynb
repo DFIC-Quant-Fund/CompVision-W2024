{
  "nbformat": 4,
  "nbformat_minor": 0,
  "metadata": {
    "colab": {
      "provenance": [],
      "toc_visible": true,
      "authorship_tag": "ABX9TyPXnl0Kbv28qEnwXdvzQ+jU",
      "include_colab_link": true
    },
    "kernelspec": {
      "name": "python3",
      "display_name": "Python 3"
    },
    "language_info": {
      "name": "python"
    }
  },
  "cells": [
    {
      "cell_type": "markdown",
      "metadata": {
        "id": "view-in-github",
        "colab_type": "text"
      },
      "source": [
        "<a href=\"https://colab.research.google.com/github/DFIC-Quant-Fund/CompVision-W2024/blob/main/TestImageRec_Jad.ipynb\" target=\"_parent\"><img src=\"https://colab.research.google.com/assets/colab-badge.svg\" alt=\"Open In Colab\"/></a>"
      ]
    },
    {
      "cell_type": "markdown",
      "source": [
        "# Get Data"
      ],
      "metadata": {
        "id": "zmrH9gTJUD1n"
      }
    },
    {
      "cell_type": "code",
      "source": [
        "# images = [\"path/to/image1.png\", \"path/to/image2.png\", ...]\n",
        "# labels = [0, 1, ...]  # 0 for decrease, 1 for increase\n"
      ],
      "metadata": {
        "id": "R6cdjIjUTn_o"
      },
      "execution_count": null,
      "outputs": []
    },
    {
      "cell_type": "markdown",
      "source": [
        "# Preprocess Images"
      ],
      "metadata": {
        "id": "SZIUWzuXUGlN"
      }
    },
    {
      "cell_type": "code",
      "source": [
        "# from tensorflow.keras.preprocessing.image import ImageDataGenerator\n",
        "\n",
        "# datagen = ImageDataGenerator(rescale=1./255)\n",
        "\n",
        "# # Assuming you have a directory structure for training and validation\n",
        "# train_generator = datagen.flow_from_directory(\n",
        "#     'data/train',\n",
        "#     target_size=(150, 150),  # Resize images\n",
        "#     batch_size=32,\n",
        "#     class_mode='binary')\n",
        "\n",
        "# validation_generator = datagen.flow_from_directory(\n",
        "#     'data/validation',\n",
        "#     target_size=(150, 150),\n",
        "#     batch_size=32,\n",
        "#     class_mode='binary')"
      ],
      "metadata": {
        "id": "udZm12xfTsDp"
      },
      "execution_count": null,
      "outputs": []
    },
    {
      "cell_type": "markdown",
      "source": [
        "# Design the Neural Network Model"
      ],
      "metadata": {
        "id": "Z2PE4lZMULy0"
      }
    },
    {
      "cell_type": "code",
      "source": [
        "# from tensorflow.keras.models import Sequential\n",
        "# from tensorflow.keras.layers import Conv2D, MaxPooling2D, Flatten, Dense\n",
        "\n",
        "# model = Sequential([\n",
        "#     Conv2D(32, (3, 3), activation='relu', input_shape=(150, 150, 3)),\n",
        "#     MaxPooling2D(2, 2),\n",
        "#     Conv2D(64, (3, 3), activation='relu'),\n",
        "#     MaxPooling2D(2, 2),\n",
        "#     Conv2D(128, (3, 3), activation='relu'),\n",
        "#     MaxPooling2D(2, 2),\n",
        "#     Flatten(),\n",
        "#     Dense(512, activation='relu'),\n",
        "#     Dense(1, activation='sigmoid')  # Binary classification\n",
        "# ])\n",
        "\n",
        "# model.compile(optimizer='adam', loss='binary_crossentropy', metrics=['accuracy'])\n"
      ],
      "metadata": {
        "id": "7d2RPRo0T28h"
      },
      "execution_count": null,
      "outputs": []
    },
    {
      "cell_type": "markdown",
      "source": [
        "# Train the Model"
      ],
      "metadata": {
        "id": "t2kW_5qDUQJ2"
      }
    },
    {
      "cell_type": "code",
      "source": [
        "# history = model.fit(\n",
        "#     train_generator,\n",
        "#     steps_per_epoch=100,  # Depends on your dataset size\n",
        "#     epochs=15,\n",
        "#     validation_data=validation_generator,\n",
        "#     validation_steps=50)  # Adjust based on your validation dataset size\n"
      ],
      "metadata": {
        "id": "atkKhsbiT4FF"
      },
      "execution_count": null,
      "outputs": []
    },
    {
      "cell_type": "markdown",
      "source": [
        "# Evaluate and Use the Model"
      ],
      "metadata": {
        "id": "cuVdx80bUUlm"
      }
    },
    {
      "cell_type": "code",
      "source": [
        "# import numpy as np\n",
        "# from tensorflow.keras.preprocessing import image\n",
        "\n",
        "# # Load and preprocess a new image\n",
        "# new_image_path = 'path/to/new/image.png'\n",
        "# img = image.load_img(new_image_path, target_size=(150, 150))\n",
        "# img_tensor = image.img_to_array(img)\n",
        "# img_tensor = np.expand_dims(img_tensor, axis=0)\n",
        "# img_tensor /= 255.  # Remember to normalize the image in the same way as the training data\n",
        "\n",
        "# # Predict\n",
        "# prediction = model.predict(img_tensor)\n",
        "# if prediction[0] > 0.5:\n",
        "#     print(\"Increase\")\n",
        "# else:\n",
        "#     print(\"Decrease\")\n"
      ],
      "metadata": {
        "id": "Fyr0LnhaT_0G"
      },
      "execution_count": null,
      "outputs": []
    },
    {
      "cell_type": "markdown",
      "source": [
        "# Code Test without Data"
      ],
      "metadata": {
        "id": "RfcE9HPsUZSD"
      }
    },
    {
      "cell_type": "markdown",
      "source": [
        "# Upload Image"
      ],
      "metadata": {
        "id": "hqO6D3NWZdfE"
      }
    },
    {
      "cell_type": "code",
      "source": [
        "from google.colab import files\n",
        "\n",
        "uploaded = files.upload()\n",
        "\n",
        "for filename in uploaded.keys():\n",
        "  print(f\"User uploaded file {filename} with length {len(uploaded[filename])} bytes\")"
      ],
      "metadata": {
        "colab": {
          "base_uri": "https://localhost:8080/",
          "height": 73
        },
        "id": "-8-arWK8ZgFs",
        "outputId": "71a9cc84-3a1e-4d31-ba2e-8ff28b9c55ce"
      },
      "execution_count": 4,
      "outputs": [
        {
          "output_type": "display_data",
          "data": {
            "text/plain": [
              "<IPython.core.display.HTML object>"
            ],
            "text/html": [
              "\n",
              "     <input type=\"file\" id=\"files-2f4f49a2-e570-4661-89b4-f6c793fc28e0\" name=\"files[]\" multiple disabled\n",
              "        style=\"border:none\" />\n",
              "     <output id=\"result-2f4f49a2-e570-4661-89b4-f6c793fc28e0\">\n",
              "      Upload widget is only available when the cell has been executed in the\n",
              "      current browser session. Please rerun this cell to enable.\n",
              "      </output>\n",
              "      <script>// Copyright 2017 Google LLC\n",
              "//\n",
              "// Licensed under the Apache License, Version 2.0 (the \"License\");\n",
              "// you may not use this file except in compliance with the License.\n",
              "// You may obtain a copy of the License at\n",
              "//\n",
              "//      http://www.apache.org/licenses/LICENSE-2.0\n",
              "//\n",
              "// Unless required by applicable law or agreed to in writing, software\n",
              "// distributed under the License is distributed on an \"AS IS\" BASIS,\n",
              "// WITHOUT WARRANTIES OR CONDITIONS OF ANY KIND, either express or implied.\n",
              "// See the License for the specific language governing permissions and\n",
              "// limitations under the License.\n",
              "\n",
              "/**\n",
              " * @fileoverview Helpers for google.colab Python module.\n",
              " */\n",
              "(function(scope) {\n",
              "function span(text, styleAttributes = {}) {\n",
              "  const element = document.createElement('span');\n",
              "  element.textContent = text;\n",
              "  for (const key of Object.keys(styleAttributes)) {\n",
              "    element.style[key] = styleAttributes[key];\n",
              "  }\n",
              "  return element;\n",
              "}\n",
              "\n",
              "// Max number of bytes which will be uploaded at a time.\n",
              "const MAX_PAYLOAD_SIZE = 100 * 1024;\n",
              "\n",
              "function _uploadFiles(inputId, outputId) {\n",
              "  const steps = uploadFilesStep(inputId, outputId);\n",
              "  const outputElement = document.getElementById(outputId);\n",
              "  // Cache steps on the outputElement to make it available for the next call\n",
              "  // to uploadFilesContinue from Python.\n",
              "  outputElement.steps = steps;\n",
              "\n",
              "  return _uploadFilesContinue(outputId);\n",
              "}\n",
              "\n",
              "// This is roughly an async generator (not supported in the browser yet),\n",
              "// where there are multiple asynchronous steps and the Python side is going\n",
              "// to poll for completion of each step.\n",
              "// This uses a Promise to block the python side on completion of each step,\n",
              "// then passes the result of the previous step as the input to the next step.\n",
              "function _uploadFilesContinue(outputId) {\n",
              "  const outputElement = document.getElementById(outputId);\n",
              "  const steps = outputElement.steps;\n",
              "\n",
              "  const next = steps.next(outputElement.lastPromiseValue);\n",
              "  return Promise.resolve(next.value.promise).then((value) => {\n",
              "    // Cache the last promise value to make it available to the next\n",
              "    // step of the generator.\n",
              "    outputElement.lastPromiseValue = value;\n",
              "    return next.value.response;\n",
              "  });\n",
              "}\n",
              "\n",
              "/**\n",
              " * Generator function which is called between each async step of the upload\n",
              " * process.\n",
              " * @param {string} inputId Element ID of the input file picker element.\n",
              " * @param {string} outputId Element ID of the output display.\n",
              " * @return {!Iterable<!Object>} Iterable of next steps.\n",
              " */\n",
              "function* uploadFilesStep(inputId, outputId) {\n",
              "  const inputElement = document.getElementById(inputId);\n",
              "  inputElement.disabled = false;\n",
              "\n",
              "  const outputElement = document.getElementById(outputId);\n",
              "  outputElement.innerHTML = '';\n",
              "\n",
              "  const pickedPromise = new Promise((resolve) => {\n",
              "    inputElement.addEventListener('change', (e) => {\n",
              "      resolve(e.target.files);\n",
              "    });\n",
              "  });\n",
              "\n",
              "  const cancel = document.createElement('button');\n",
              "  inputElement.parentElement.appendChild(cancel);\n",
              "  cancel.textContent = 'Cancel upload';\n",
              "  const cancelPromise = new Promise((resolve) => {\n",
              "    cancel.onclick = () => {\n",
              "      resolve(null);\n",
              "    };\n",
              "  });\n",
              "\n",
              "  // Wait for the user to pick the files.\n",
              "  const files = yield {\n",
              "    promise: Promise.race([pickedPromise, cancelPromise]),\n",
              "    response: {\n",
              "      action: 'starting',\n",
              "    }\n",
              "  };\n",
              "\n",
              "  cancel.remove();\n",
              "\n",
              "  // Disable the input element since further picks are not allowed.\n",
              "  inputElement.disabled = true;\n",
              "\n",
              "  if (!files) {\n",
              "    return {\n",
              "      response: {\n",
              "        action: 'complete',\n",
              "      }\n",
              "    };\n",
              "  }\n",
              "\n",
              "  for (const file of files) {\n",
              "    const li = document.createElement('li');\n",
              "    li.append(span(file.name, {fontWeight: 'bold'}));\n",
              "    li.append(span(\n",
              "        `(${file.type || 'n/a'}) - ${file.size} bytes, ` +\n",
              "        `last modified: ${\n",
              "            file.lastModifiedDate ? file.lastModifiedDate.toLocaleDateString() :\n",
              "                                    'n/a'} - `));\n",
              "    const percent = span('0% done');\n",
              "    li.appendChild(percent);\n",
              "\n",
              "    outputElement.appendChild(li);\n",
              "\n",
              "    const fileDataPromise = new Promise((resolve) => {\n",
              "      const reader = new FileReader();\n",
              "      reader.onload = (e) => {\n",
              "        resolve(e.target.result);\n",
              "      };\n",
              "      reader.readAsArrayBuffer(file);\n",
              "    });\n",
              "    // Wait for the data to be ready.\n",
              "    let fileData = yield {\n",
              "      promise: fileDataPromise,\n",
              "      response: {\n",
              "        action: 'continue',\n",
              "      }\n",
              "    };\n",
              "\n",
              "    // Use a chunked sending to avoid message size limits. See b/62115660.\n",
              "    let position = 0;\n",
              "    do {\n",
              "      const length = Math.min(fileData.byteLength - position, MAX_PAYLOAD_SIZE);\n",
              "      const chunk = new Uint8Array(fileData, position, length);\n",
              "      position += length;\n",
              "\n",
              "      const base64 = btoa(String.fromCharCode.apply(null, chunk));\n",
              "      yield {\n",
              "        response: {\n",
              "          action: 'append',\n",
              "          file: file.name,\n",
              "          data: base64,\n",
              "        },\n",
              "      };\n",
              "\n",
              "      let percentDone = fileData.byteLength === 0 ?\n",
              "          100 :\n",
              "          Math.round((position / fileData.byteLength) * 100);\n",
              "      percent.textContent = `${percentDone}% done`;\n",
              "\n",
              "    } while (position < fileData.byteLength);\n",
              "  }\n",
              "\n",
              "  // All done.\n",
              "  yield {\n",
              "    response: {\n",
              "      action: 'complete',\n",
              "    }\n",
              "  };\n",
              "}\n",
              "\n",
              "scope.google = scope.google || {};\n",
              "scope.google.colab = scope.google.colab || {};\n",
              "scope.google.colab._files = {\n",
              "  _uploadFiles,\n",
              "  _uploadFilesContinue,\n",
              "};\n",
              "})(self);\n",
              "</script> "
            ]
          },
          "metadata": {}
        },
        {
          "output_type": "stream",
          "name": "stdout",
          "text": [
            "Saving candlestick_chart.png to candlestick_chart.png\n",
            "User uploaded file candlestick_chart.png with length 5506 bytes\n"
          ]
        }
      ]
    },
    {
      "cell_type": "code",
      "source": [
        "from tensorflow.keras.preprocessing import image\n",
        "import numpy as np\n",
        "\n",
        "# Load the image\n",
        "img_path = '/content/candlestick_chart.png'\n",
        "img = image.load_img(img_path, target_size=(150, 150))  # Resize image to match model expected input\n",
        "\n",
        "# Convert the image to a numpy array and normalize\n",
        "img_array = image.img_to_array(img)\n",
        "img_array = np.expand_dims(img_array, axis=0) / 255.  # Normalize to 0-1 range\n"
      ],
      "metadata": {
        "id": "vbmuWZxFR4bh"
      },
      "execution_count": 5,
      "outputs": []
    },
    {
      "cell_type": "code",
      "source": [
        "from tensorflow.keras.models import Sequential\n",
        "from tensorflow.keras.layers import Conv2D, MaxPooling2D, Flatten, Dense\n",
        "\n",
        "# Define a simple model\n",
        "model = Sequential([\n",
        "    Conv2D(32, (3, 3), activation='relu', input_shape=(150, 150, 3)),\n",
        "    MaxPooling2D(2, 2),\n",
        "    Flatten(),\n",
        "    Dense(64, activation='relu'),\n",
        "    Dense(1, activation='sigmoid')  # Assuming binary classification (up/down)\n",
        "])\n",
        "\n",
        "# Since we're not training the model, the weights are random\n"
      ],
      "metadata": {
        "id": "72IvYakASH7n"
      },
      "execution_count": 6,
      "outputs": []
    },
    {
      "cell_type": "code",
      "source": [
        "prediction = model.predict(img_array)\n",
        "print(f\"Mock Prediction (Untrained): {prediction[0]}\")\n",
        "# This will just give a random output\n"
      ],
      "metadata": {
        "colab": {
          "base_uri": "https://localhost:8080/"
        },
        "id": "cylv7HIYSKzm",
        "outputId": "f0acc7d2-f3fb-4da7-cd65-58180f5f8476"
      },
      "execution_count": 7,
      "outputs": [
        {
          "output_type": "stream",
          "name": "stdout",
          "text": [
            "1/1 [==============================] - 0s 268ms/step\n",
            "Mock Prediction (Untrained): [0.4886003]\n"
          ]
        }
      ]
    },
    {
      "cell_type": "markdown",
      "source": [
        "# Testing Process with Image Generation Rather Than Upload"
      ],
      "metadata": {
        "id": "KtY1wqJpYkZe"
      }
    },
    {
      "cell_type": "markdown",
      "source": [
        "# Create and Save a Chart"
      ],
      "metadata": {
        "id": "h83aUTxnyRv_"
      }
    },
    {
      "cell_type": "code",
      "source": [
        "# !pip install mplfinance\n",
        "import matplotlib.pyplot as plt\n",
        "import yfinance as yf\n",
        "import mplfinance as mpf\n",
        "\n",
        "# Download historical data for a stock (e.g., Apple)\n",
        "stock_symbol = \"AAPL\"\n",
        "stock_data = yf.download(stock_symbol, start=\"2020-01-01\", end=\"2022-01-01\")\n",
        "\n",
        "# Specify the savefig dictionary with filename and other parameters (optional)\n",
        "save_params = dict(fname='apple_candlestick_chart.png', dpi=100, pad_inches=0.25)\n",
        "\n",
        "# Plot and save the candlestick chart\n",
        "mpf.plot(stock_data, type='candle', style='charles', volume=True, savefig=save_params)\n",
        "\n",
        "\n",
        "mpf.plot(stock_data, type='candle', style='charles', volume=True)\n",
        "plt.show()\n"
      ],
      "metadata": {
        "colab": {
          "base_uri": "https://localhost:8080/",
          "height": 540
        },
        "id": "5W9LixJsXrSp",
        "outputId": "688e0779-3d4d-4b4b-8535-562885635bfe"
      },
      "execution_count": 8,
      "outputs": [
        {
          "output_type": "stream",
          "name": "stderr",
          "text": [
            "\r[*********************100%%**********************]  1 of 1 completed\n"
          ]
        },
        {
          "output_type": "display_data",
          "data": {
            "text/plain": [
              "<Figure size 800x575 with 4 Axes>"
            ],
            "image/png": "[encoded data removed]"
          },
          "metadata": {}
        }
      ]
    },
    {
      "cell_type": "markdown",
      "source": [
        "# Test the Image Just Created"
      ],
      "metadata": {
        "id": "cHJMz0ezlz3U"
      }
    },
    {
      "cell_type": "code",
      "source": [
        "from tensorflow.keras.preprocessing import image\n",
        "import numpy as np\n",
        "from tensorflow.keras.models import Sequential\n",
        "from tensorflow.keras.layers import Conv2D, MaxPooling2D, Flatten, Dense\n",
        "\n",
        "# Load the image\n",
        "img_path = '/content/apple_candlestick_chart.png'\n",
        "img = image.load_img(img_path, target_size=(150, 150))  # Resize image to match model expected input\n",
        "\n",
        "# Convert the image to a numpy array and normalize\n",
        "img_array = image.img_to_array(img)\n",
        "img_array = np.expand_dims(img_array, axis=0) / 255.  # Normalize to 0-1 range\n",
        "\n",
        "# Define a simple model\n",
        "model = Sequential([\n",
        "    Conv2D(32, (3, 3), activation='relu', input_shape=(150, 150, 3)),\n",
        "    MaxPooling2D(2, 2),\n",
        "    Flatten(),\n",
        "    Dense(64, activation='relu'),\n",
        "    Dense(1, activation='sigmoid')  # Assuming binary classification (up/down)\n",
        "])\n",
        "\n",
        "# Since we're not training the model, the weights are random\n",
        "\n",
        "prediction = model.predict(img_array)\n",
        "print(f\"Mock Prediction (Untrained): {prediction[0]}\")\n",
        "# This will just give a random output"
      ],
      "metadata": {
        "colab": {
          "base_uri": "https://localhost:8080/"
        },
        "id": "q6Moz6C9lues",
        "outputId": "5b6843e3-4773-4502-ba58-9285661bab77"
      },
      "execution_count": 9,
      "outputs": [
        {
          "output_type": "stream",
          "name": "stdout",
          "text": [
            "1/1 [==============================] - 0s 86ms/step\n",
            "Mock Prediction (Untrained): [0.48162803]\n"
          ]
        }
      ]
    },
    {
      "cell_type": "markdown",
      "source": [
        "# Try With Generation of Multiple Charts for Multiple Tickers"
      ],
      "metadata": {
        "id": "JZYiRB2XY-Mq"
      }
    },
    {
      "cell_type": "markdown",
      "source": [
        "# Ignore This For Now"
      ],
      "metadata": {
        "id": "LbNfYgbfePim"
      }
    },
    {
      "cell_type": "code",
      "source": [
        "!pip install mplfinance\n",
        "import matplotlib.pyplot as plt\n",
        "import yfinance as yf\n",
        "import mplfinance as mpf\n",
        "\n",
        "# List of stock symbols to download and generate candlestick charts for\n",
        "stock_symbols = [\"AAPL\", \"GOOGL\", \"MSFT\", \"AMZN\", \"META\", \"TSLA\", \"NFLX\", \"NVDA\", \"BABA\", \"JPM\"]\n",
        "\n",
        "\n",
        "def download_and_generate_charts(stock_symbols, window_size=5):\n",
        "    labels = {}  # Dictionary to hold the labels for each stock symbol\n",
        "\n",
        "    for symbol in stock_symbols:\n",
        "        # Download historical data\n",
        "        data = yf.download(symbol, start=\"2020-01-01\", end=\"2020-03-01\")\n",
        "\n",
        "        for i in range(len(data) - window_size):\n",
        "            # Select data window\n",
        "            data_window = data.iloc[i:i+window_size]\n",
        "\n",
        "            # Define filename for the chart image\n",
        "            filename = f\"{symbol}_{i}.png\"\n",
        "\n",
        "            # Plot and save the candlestick chart\n",
        "            mpf.plot(data_window, type='candle', style='charles', volume=True,\n",
        "                     savefig=dict(fname=filename, dpi=100, pad_inches=0.25))\n",
        "\n",
        "            # Determine the label based on price movement\n",
        "            try:\n",
        "                last_day_close = data_window['Close'].iloc[-1]\n",
        "                next_day_open = data.iloc[i + window_size]['Open']\n",
        "                label = 1 if next_day_open > last_day_close else 0  # 1 for up, 0 for down\n",
        "                labels[filename] = label\n",
        "            except IndexError:  # Handle the case where there's no next day\n",
        "                # This might happen at the end of the dataset\n",
        "                labels[filename] = None\n",
        "\n",
        "    return labels\n",
        "\n",
        "# Generate charts and labels\n",
        "labels = download_and_generate_charts(stock_symbols)\n",
        "# print(labels)\n",
        "\n",
        "\n",
        "\n",
        "# mpf.plot(stock_data, type='candle', style='charles', volume=True)\n",
        "# plt.show()\n"
      ],
      "metadata": {
        "id": "nxOO4IBwZD-a"
      },
      "execution_count": null,
      "outputs": []
    },
    {
      "cell_type": "markdown",
      "source": [
        "# My Method"
      ],
      "metadata": {
        "id": "DizmtBO_eTO5"
      }
    },
    {
      "cell_type": "markdown",
      "source": [
        "# Generate Images and Labels"
      ],
      "metadata": {
        "id": "wa73xgKOjOKt"
      }
    },
    {
      "cell_type": "code",
      "source": [
        "!pip install mplfinance\n",
        "import matplotlib.pyplot as plt\n",
        "import yfinance as yf\n",
        "import mplfinance as mpf\n",
        "from datetime import datetime, timedelta\n",
        "\n",
        "# List of stock symbols to download and generate candlestick charts for\n",
        "stock_symbols = [\"AAPL\", \"GOOGL\", \"MSFT\", \"AMZN\", \"META\", \"TSLA\", \"NFLX\", \"NVDA\", \"BABA\", \"JPM\"]\n",
        "\n",
        "\n",
        "def download_and_generate_charts(stock_symbols):\n",
        "    labels = {}  # Dictionary to hold the labels for each stock symbol\n",
        "    start_date = \"2020-01-01\"\n",
        "    end_date =\"2020-03-01\"\n",
        "\n",
        "    # Get next day\n",
        "    new_end = datetime.strptime(end_date, \"%Y-%m-%d\") + timedelta(days=3)\n",
        "    new_end_date = new_end.strftime(\"%Y-%m-%d\")\n",
        "\n",
        "    for symbol in stock_symbols:\n",
        "        # Download historical data\n",
        "        data = yf.download(symbol, start=start_date, end=end_date)\n",
        "\n",
        "        # Download subsequent data to see if it went up or not\n",
        "        subseq_data = yf.download(symbol, start=end_date, end = new_end_date)\n",
        "\n",
        "        # Define filename for the chart image\n",
        "        filename = f\"{symbol}.png\"\n",
        "\n",
        "        # Plot and save the candlestick chart\n",
        "        mpf.plot(data, type='candle', style='charles', volume=True,\n",
        "                savefig=dict(fname=filename, dpi=100, pad_inches=0.25))\n",
        "\n",
        "        # Determine the label based on price movement\n",
        "        try:\n",
        "            last_day_close = data['Close'].iloc[-1]\n",
        "            next_day_open = subseq_data.iloc[-1]['Close']\n",
        "            label = 1 if next_day_open > last_day_close else 0  # 1 for up, 0 for down\n",
        "\n",
        "            # print(f\"symbol: {symbol} \\t p1: {last_day_close} \\t p2: {next_day_open} \\t label: {label} \\n\")\n",
        "\n",
        "            labels[filename] = label\n",
        "        except IndexError:  # Handle the case where there's no next day\n",
        "            # This might happen at the end of the dataset\n",
        "            labels[filename] = None\n",
        "\n",
        "    return labels\n",
        "\n",
        "# Generate charts and labels\n",
        "labels = download_and_generate_charts(stock_symbols)\n",
        "# print(labels)\n",
        "\n",
        "\n",
        "\n",
        "# mpf.plot(stock_data, type='candle', style='charles', volume=True)\n",
        "# plt.show()\n"
      ],
      "metadata": {
        "colab": {
          "base_uri": "https://localhost:8080/"
        },
        "id": "7GCfOArSeN8i",
        "outputId": "6ed1f018-d6f7-4a61-d427-45b733a464e9"
      },
      "execution_count": 15,
      "outputs": [
        {
          "output_type": "stream",
          "name": "stdout",
          "text": [
            "Requirement already satisfied: mplfinance in /usr/local/lib/python3.10/dist-packages (0.12.10b0)\n",
            "Requirement already satisfied: matplotlib in /usr/local/lib/python3.10/dist-packages (from mplfinance) (3.7.1)\n",
            "Requirement already satisfied: pandas in /usr/local/lib/python3.10/dist-packages (from mplfinance) (1.5.3)\n",
            "Requirement already satisfied: contourpy>=1.0.1 in /usr/local/lib/python3.10/dist-packages (from matplotlib->mplfinance) (1.2.0)\n",
            "Requirement already satisfied: cycler>=0.10 in /usr/local/lib/python3.10/dist-packages (from matplotlib->mplfinance) (0.12.1)\n",
            "Requirement already satisfied: fonttools>=4.22.0 in /usr/local/lib/python3.10/dist-packages (from matplotlib->mplfinance) (4.49.0)\n",
            "Requirement already satisfied: kiwisolver>=1.0.1 in /usr/local/lib/python3.10/dist-packages (from matplotlib->mplfinance) (1.4.5)\n",
            "Requirement already satisfied: numpy>=1.20 in /usr/local/lib/python3.10/dist-packages (from matplotlib->mplfinance) (1.25.2)\n",
            "Requirement already satisfied: packaging>=20.0 in /usr/local/lib/python3.10/dist-packages (from matplotlib->mplfinance) (23.2)\n",
            "Requirement already satisfied: pillow>=6.2.0 in /usr/local/lib/python3.10/dist-packages (from matplotlib->mplfinance) (9.4.0)\n",
            "Requirement already satisfied: pyparsing>=2.3.1 in /usr/local/lib/python3.10/dist-packages (from matplotlib->mplfinance) (3.1.1)\n",
            "Requirement already satisfied: python-dateutil>=2.7 in /usr/local/lib/python3.10/dist-packages (from matplotlib->mplfinance) (2.8.2)\n",
            "Requirement already satisfied: pytz>=2020.1 in /usr/local/lib/python3.10/dist-packages (from pandas->mplfinance) (2023.4)\n",
            "Requirement already satisfied: six>=1.5 in /usr/local/lib/python3.10/dist-packages (from python-dateutil>=2.7->matplotlib->mplfinance) (1.16.0)\n"
          ]
        },
        {
          "output_type": "stream",
          "name": "stderr",
          "text": [
            "[*********************100%%**********************]  1 of 1 completed\n",
            "[*********************100%%**********************]  1 of 1 completed\n",
            "[*********************100%%**********************]  1 of 1 completed\n",
            "[*********************100%%**********************]  1 of 1 completed\n",
            "[*********************100%%**********************]  1 of 1 completed\n",
            "[*********************100%%**********************]  1 of 1 completed\n",
            "[*********************100%%**********************]  1 of 1 completed\n",
            "[*********************100%%**********************]  1 of 1 completed\n",
            "[*********************100%%**********************]  1 of 1 completed\n",
            "[*********************100%%**********************]  1 of 1 completed\n",
            "[*********************100%%**********************]  1 of 1 completed\n",
            "[*********************100%%**********************]  1 of 1 completed\n",
            "[*********************100%%**********************]  1 of 1 completed\n",
            "[*********************100%%**********************]  1 of 1 completed\n",
            "[*********************100%%**********************]  1 of 1 completed\n",
            "[*********************100%%**********************]  1 of 1 completed\n",
            "[*********************100%%**********************]  1 of 1 completed\n",
            "[*********************100%%**********************]  1 of 1 completed\n",
            "[*********************100%%**********************]  1 of 1 completed\n",
            "[*********************100%%**********************]  1 of 1 completed\n"
          ]
        }
      ]
    },
    {
      "cell_type": "markdown",
      "source": [
        "# Create, Train, and Evaluate Model"
      ],
      "metadata": {
        "id": "IjCRhgkulcLt"
      }
    },
    {
      "cell_type": "code",
      "source": [
        "from tensorflow.keras.preprocessing.image import load_img, img_to_array\n",
        "import numpy as np\n",
        "\n",
        "# Define image dimensions\n",
        "img_width, img_height = 150, 150\n",
        "\n",
        "# List to store model performance metrics\n",
        "model_metrics = []\n",
        "\n",
        "# Loop through each image in the labels dictionary\n",
        "for filename, label in labels.items():\n",
        "    try:\n",
        "        # Load image\n",
        "        img = load_img(filename, target_size=(img_width, img_height))\n",
        "        img_array = img_to_array(img) / 255.0  # Normalize pixel values\n",
        "\n",
        "        # Expand dimensions to match expected input shape of the model\n",
        "        img_array = np.expand_dims(img_array, axis=0)\n",
        "\n",
        "        # Split dataset into training and validation sets (using the same image for simplicity)\n",
        "        X_train, X_val, y_train, y_val = img_array, img_array, np.array([label]), np.array([label])\n",
        "\n",
        "        # Define CNN model\n",
        "        model = Sequential([\n",
        "            Conv2D(32, (3, 3), activation='relu', input_shape=(img_width, img_height, 3)),\n",
        "            MaxPooling2D((2, 2)),\n",
        "            Conv2D(64, (3, 3), activation='relu'),\n",
        "            MaxPooling2D((2, 2)),\n",
        "            Conv2D(128, (3, 3), activation='relu'),\n",
        "            MaxPooling2D((2, 2)),\n",
        "            Flatten(),\n",
        "            Dense(128, activation='relu'),\n",
        "            Dense(1, activation='sigmoid')\n",
        "        ])\n",
        "\n",
        "        # Compile model\n",
        "        model.compile(optimizer='adam',\n",
        "                      loss='binary_crossentropy',\n",
        "                      metrics=['accuracy'])\n",
        "\n",
        "        # Train model\n",
        "        model.fit(X_train, y_train, epochs=5, batch_size=32, validation_data=(X_val, y_val), verbose=0)\n",
        "\n",
        "        # Evaluate model\n",
        "        _, accuracy = model.evaluate(X_val, y_val, verbose=0)\n",
        "        model_metrics.append((filename, accuracy))\n",
        "\n",
        "        print(f\"Model for {filename}: Accuracy = {accuracy}\")\n",
        "    except Exception as e:\n",
        "        print(f\"Error processing {filename}: {str(e)}\")\n"
      ],
      "metadata": {
        "colab": {
          "base_uri": "https://localhost:8080/"
        },
        "id": "xy0gggkqlgUI",
        "outputId": "79fa5d9b-bcfc-4bac-f3be-bb920c9d3f23"
      },
      "execution_count": 16,
      "outputs": [
        {
          "output_type": "stream",
          "name": "stdout",
          "text": [
            "Model for AAPL.png: Accuracy = 1.0\n",
            "Model for GOOGL.png: Accuracy = 1.0\n",
            "Model for MSFT.png: Accuracy = 1.0\n",
            "Model for AMZN.png: Accuracy = 1.0\n",
            "Model for META.png: Accuracy = 1.0\n",
            "Model for TSLA.png: Accuracy = 1.0\n",
            "Model for NFLX.png: Accuracy = 1.0\n",
            "Model for NVDA.png: Accuracy = 1.0\n",
            "Model for BABA.png: Accuracy = 1.0\n",
            "Model for JPM.png: Accuracy = 1.0\n"
          ]
        }
      ]
    },
    {
      "cell_type": "markdown",
      "source": [
        "TODO: Add this to Github, add a buy, sell, or do nothing system/label, try to configure model in a better way."
      ],
      "metadata": {
        "id": "W9eA521_uJkL"
      }
    }
  ]
}