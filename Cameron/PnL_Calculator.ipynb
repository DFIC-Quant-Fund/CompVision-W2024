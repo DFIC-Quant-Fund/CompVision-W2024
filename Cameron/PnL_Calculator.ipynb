{
 "cells": [
  {
   "cell_type": "code",
   "execution_count": 75,
   "metadata": {},
   "outputs": [],
   "source": [
    "from enum import Enum\n",
    "import yfinance as yf\n",
    "import numpy as np"
   ]
  },
  {
   "cell_type": "code",
   "execution_count": 109,
   "metadata": {},
   "outputs": [],
   "source": [
    "ticker = 'AAPL'\n",
    "\n",
    "start_date = '2024-04-01'\n",
    "end_date = '2024-04-02'\n",
    "\n",
    "timeframe = '90m'\n",
    "lookback = 30\n",
    "deadline = 2\n",
    "\n",
    "# Pips\n",
    "take_profit = 30\n",
    "stop_loss = 15"
   ]
  },
  {
   "cell_type": "code",
   "execution_count": 110,
   "metadata": {},
   "outputs": [],
   "source": [
    "class PnL(Enum):\n",
    "    TAKE_PROFIT = 0\n",
    "    STOP_LOSS = 1\n",
    "    NOTHING = 2"
   ]
  },
  {
   "cell_type": "code",
   "execution_count": 111,
   "metadata": {},
   "outputs": [],
   "source": [
    "class PnLCalculator:\n",
    "    def __init__(self, ticker, start_date, end_date, timeframe):\n",
    "        # Add deadline to end_date so all days can be predicted\n",
    "        self.data = yf.download(ticker, start=start_date, end=end_date, interval=timeframe)\n",
    "        # print(self.data)\n",
    "\n",
    "    def get_pnl_labels(self, take_profit, stop_loss, deadline):\n",
    "        res = []\n",
    "\n",
    "        # Assume more data points than deadline\n",
    "        for i in range(len(self.data['Close']) - deadline):\n",
    "        # for i in range(len(self.data['Close'])):\n",
    "\n",
    "            start_price = self.data['Close'].iloc[i]\n",
    "            take_profit_price = start_price * (1 + take_profit / 1000)\n",
    "            stop_loss_price = start_price * (1 - stop_loss / 1000)\n",
    "\n",
    "            # sl_price, tp_price = compute(candles, type, data, func)\n",
    "            # print(start_price, stop_loss_price, take_profit_price)\n",
    "\n",
    "            label = PnL.NOTHING.value\n",
    "\n",
    "            for j in range(i + 1, i + 1 + deadline):\n",
    "            # for j in range(i + 1, min(i + 1 + deadline, len(self.data['Close']))):\n",
    "                \n",
    "                # Use high and low values\n",
    "                price = self.data['Close'].iloc[j]\n",
    "\n",
    "                if price >= take_profit_price:\n",
    "                    label = PnL.TAKE_PROFIT.value\n",
    "                    break\n",
    "            \n",
    "                if price <= stop_loss_price:\n",
    "                    label = PnL.STOP_LOSS.value\n",
    "                    break\n",
    "                \n",
    "            res.append(label)\n",
    "\n",
    "        # Do we want array to be same size as data? What about end days where deadline longer than remaining days\n",
    "        return np.array(res)"
   ]
  },
  {
   "cell_type": "code",
   "execution_count": 112,
   "metadata": {},
   "outputs": [
    {
     "name": "stderr",
     "output_type": "stream",
     "text": [
      "[*********************100%%**********************]  1 of 1 completed"
     ]
    },
    {
     "name": "stdout",
     "output_type": "stream",
     "text": [
      "                           Open        High         Low       Close  \\\n",
      "Datetime                                                              \n",
      "2024-04-01 09:30:00  171.187500  171.229996  169.820007  169.880005   \n",
      "2024-04-01 11:00:00  169.884995  170.080002  169.479996  169.895004   \n",
      "2024-04-01 12:30:00  169.895004  170.089996  169.759995  169.996796   \n",
      "2024-04-01 14:00:00  169.994995  170.240005  169.850006  169.934998   \n",
      "2024-04-01 15:30:00  169.934998  170.139999  169.869995  170.009995   \n",
      "\n",
      "                      Adj Close    Volume  \n",
      "Datetime                                   \n",
      "2024-04-01 09:30:00  169.880005  14668513  \n",
      "2024-04-01 11:00:00  169.895004   7240330  \n",
      "2024-04-01 12:30:00  169.996796   4276485  \n",
      "2024-04-01 14:00:00  169.934998   4912380  \n",
      "2024-04-01 15:30:00  170.009995   5786677  \n",
      "169.8800048828125 167.33180480957031 174.97640502929687\n",
      "169.89500427246094 167.346579208374 174.99185440063476\n",
      "169.99679565429688 167.44684371948242 175.0966995239258\n",
      "[2 2 2]\n",
      "3\n"
     ]
    },
    {
     "name": "stderr",
     "output_type": "stream",
     "text": [
      "\n"
     ]
    }
   ],
   "source": [
    "calculator = PnLCalculator(ticker, start_date, end_date, timeframe)\n",
    "labels = calculator.get_pnl_labels(take_profit, stop_loss, deadline)\n",
    "print(labels)\n",
    "print(len(labels))"
   ]
  }
 ],
 "metadata": {
  "kernelspec": {
   "display_name": ".venv",
   "language": "python",
   "name": "python3"
  },
  "language_info": {
   "codemirror_mode": {
    "name": "ipython",
    "version": 3
   },
   "file_extension": ".py",
   "mimetype": "text/x-python",
   "name": "python",
   "nbconvert_exporter": "python",
   "pygments_lexer": "ipython3",
   "version": "3.10.12"
  }
 },
 "nbformat": 4,
 "nbformat_minor": 2
}
